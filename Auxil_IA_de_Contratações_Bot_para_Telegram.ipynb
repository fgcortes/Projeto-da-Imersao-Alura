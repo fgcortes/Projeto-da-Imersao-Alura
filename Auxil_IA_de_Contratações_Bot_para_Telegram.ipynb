{
  "cells": [
    {
      "cell_type": "markdown",
      "metadata": {
        "id": "view-in-github",
        "colab_type": "text"
      },
      "source": [
        "<a href=\"https://colab.research.google.com/github/fgcortes/Projeto-da-Imersao-Alura/blob/main/Auxil_IA_de_Contrata%C3%A7%C3%B5es_Bot_para_Telegram.ipynb\" target=\"_parent\"><img src=\"https://colab.research.google.com/assets/colab-badge.svg\" alt=\"Open In Colab\"/></a>"
      ]
    },
    {
      "cell_type": "markdown",
      "source": [
        "# **Instalação da biblioteca da API de bots para Telegram**"
      ],
      "metadata": {
        "id": "iE3KhK48YmkH"
      }
    },
    {
      "cell_type": "code",
      "execution_count": 1,
      "metadata": {
        "colab": {
          "base_uri": "https://localhost:8080/"
        },
        "id": "BlFEIXOf8UC4",
        "outputId": "e70f08bf-d364-4d61-d1e9-a8a16f6ccc11"
      },
      "outputs": [
        {
          "output_type": "stream",
          "name": "stdout",
          "text": [
            "Collecting pyTelegramBotAPI\n",
            "  Downloading pytelegrambotapi-4.17.0-py3-none-any.whl (240 kB)\n",
            "\u001b[2K     \u001b[90m━━━━━━━━━━━━━━━━━━━━━━━━━━━━━━━━━━━━━━━━\u001b[0m \u001b[32m240.6/240.6 kB\u001b[0m \u001b[31m1.8 MB/s\u001b[0m eta \u001b[36m0:00:00\u001b[0m\n",
            "\u001b[?25hRequirement already satisfied: requests in /usr/local/lib/python3.10/dist-packages (from pyTelegramBotAPI) (2.31.0)\n",
            "Requirement already satisfied: charset-normalizer<4,>=2 in /usr/local/lib/python3.10/dist-packages (from requests->pyTelegramBotAPI) (3.3.2)\n",
            "Requirement already satisfied: idna<4,>=2.5 in /usr/local/lib/python3.10/dist-packages (from requests->pyTelegramBotAPI) (3.7)\n",
            "Requirement already satisfied: urllib3<3,>=1.21.1 in /usr/local/lib/python3.10/dist-packages (from requests->pyTelegramBotAPI) (2.0.7)\n",
            "Requirement already satisfied: certifi>=2017.4.17 in /usr/local/lib/python3.10/dist-packages (from requests->pyTelegramBotAPI) (2024.2.2)\n",
            "Installing collected packages: pyTelegramBotAPI\n",
            "Successfully installed pyTelegramBotAPI-4.17.0\n"
          ]
        }
      ],
      "source": [
        "pip install pyTelegramBotAPI"
      ]
    },
    {
      "cell_type": "markdown",
      "source": [
        "# **Instalação da biblioteca da API do Gemini**"
      ],
      "metadata": {
        "id": "OUSd8ZFOXGbE"
      }
    },
    {
      "cell_type": "code",
      "execution_count": 2,
      "metadata": {
        "colab": {
          "base_uri": "https://localhost:8080/"
        },
        "id": "udKrD6DkfkSh",
        "outputId": "8da6862a-8735-4a47-8c62-958ca7be8d2a"
      },
      "outputs": [
        {
          "output_type": "stream",
          "name": "stdout",
          "text": [
            "Requirement already satisfied: google-generativeai in /usr/local/lib/python3.10/dist-packages (0.5.2)\n",
            "Requirement already satisfied: google-ai-generativelanguage==0.6.2 in /usr/local/lib/python3.10/dist-packages (from google-generativeai) (0.6.2)\n",
            "Requirement already satisfied: google-api-core in /usr/local/lib/python3.10/dist-packages (from google-generativeai) (2.11.1)\n",
            "Requirement already satisfied: google-api-python-client in /usr/local/lib/python3.10/dist-packages (from google-generativeai) (2.84.0)\n",
            "Requirement already satisfied: google-auth>=2.15.0 in /usr/local/lib/python3.10/dist-packages (from google-generativeai) (2.27.0)\n",
            "Requirement already satisfied: protobuf in /usr/local/lib/python3.10/dist-packages (from google-generativeai) (3.20.3)\n",
            "Requirement already satisfied: pydantic in /usr/local/lib/python3.10/dist-packages (from google-generativeai) (2.7.1)\n",
            "Requirement already satisfied: tqdm in /usr/local/lib/python3.10/dist-packages (from google-generativeai) (4.66.4)\n",
            "Requirement already satisfied: typing-extensions in /usr/local/lib/python3.10/dist-packages (from google-generativeai) (4.11.0)\n",
            "Requirement already satisfied: proto-plus<2.0.0dev,>=1.22.3 in /usr/local/lib/python3.10/dist-packages (from google-ai-generativelanguage==0.6.2->google-generativeai) (1.23.0)\n",
            "Requirement already satisfied: cachetools<6.0,>=2.0.0 in /usr/local/lib/python3.10/dist-packages (from google-auth>=2.15.0->google-generativeai) (5.3.3)\n",
            "Requirement already satisfied: pyasn1-modules>=0.2.1 in /usr/local/lib/python3.10/dist-packages (from google-auth>=2.15.0->google-generativeai) (0.4.0)\n",
            "Requirement already satisfied: rsa<5,>=3.1.4 in /usr/local/lib/python3.10/dist-packages (from google-auth>=2.15.0->google-generativeai) (4.9)\n",
            "Requirement already satisfied: googleapis-common-protos<2.0.dev0,>=1.56.2 in /usr/local/lib/python3.10/dist-packages (from google-api-core->google-generativeai) (1.63.0)\n",
            "Requirement already satisfied: requests<3.0.0.dev0,>=2.18.0 in /usr/local/lib/python3.10/dist-packages (from google-api-core->google-generativeai) (2.31.0)\n",
            "Requirement already satisfied: httplib2<1dev,>=0.15.0 in /usr/local/lib/python3.10/dist-packages (from google-api-python-client->google-generativeai) (0.22.0)\n",
            "Requirement already satisfied: google-auth-httplib2>=0.1.0 in /usr/local/lib/python3.10/dist-packages (from google-api-python-client->google-generativeai) (0.1.1)\n",
            "Requirement already satisfied: uritemplate<5,>=3.0.1 in /usr/local/lib/python3.10/dist-packages (from google-api-python-client->google-generativeai) (4.1.1)\n",
            "Requirement already satisfied: annotated-types>=0.4.0 in /usr/local/lib/python3.10/dist-packages (from pydantic->google-generativeai) (0.6.0)\n",
            "Requirement already satisfied: pydantic-core==2.18.2 in /usr/local/lib/python3.10/dist-packages (from pydantic->google-generativeai) (2.18.2)\n",
            "Requirement already satisfied: grpcio<2.0dev,>=1.33.2 in /usr/local/lib/python3.10/dist-packages (from google-api-core->google-generativeai) (1.63.0)\n",
            "Requirement already satisfied: grpcio-status<2.0.dev0,>=1.33.2 in /usr/local/lib/python3.10/dist-packages (from google-api-core->google-generativeai) (1.48.2)\n",
            "Requirement already satisfied: pyparsing!=3.0.0,!=3.0.1,!=3.0.2,!=3.0.3,<4,>=2.4.2 in /usr/local/lib/python3.10/dist-packages (from httplib2<1dev,>=0.15.0->google-api-python-client->google-generativeai) (3.1.2)\n",
            "Requirement already satisfied: pyasn1<0.7.0,>=0.4.6 in /usr/local/lib/python3.10/dist-packages (from pyasn1-modules>=0.2.1->google-auth>=2.15.0->google-generativeai) (0.6.0)\n",
            "Requirement already satisfied: charset-normalizer<4,>=2 in /usr/local/lib/python3.10/dist-packages (from requests<3.0.0.dev0,>=2.18.0->google-api-core->google-generativeai) (3.3.2)\n",
            "Requirement already satisfied: idna<4,>=2.5 in /usr/local/lib/python3.10/dist-packages (from requests<3.0.0.dev0,>=2.18.0->google-api-core->google-generativeai) (3.7)\n",
            "Requirement already satisfied: urllib3<3,>=1.21.1 in /usr/local/lib/python3.10/dist-packages (from requests<3.0.0.dev0,>=2.18.0->google-api-core->google-generativeai) (2.0.7)\n",
            "Requirement already satisfied: certifi>=2017.4.17 in /usr/local/lib/python3.10/dist-packages (from requests<3.0.0.dev0,>=2.18.0->google-api-core->google-generativeai) (2024.2.2)\n"
          ]
        }
      ],
      "source": [
        "pip install google-generativeai"
      ]
    },
    {
      "cell_type": "markdown",
      "source": [
        "# **Configuração do Gemini para uso como chatbot**"
      ],
      "metadata": {
        "id": "44hy_cuYXHej"
      }
    },
    {
      "cell_type": "code",
      "execution_count": 5,
      "metadata": {
        "colab": {
          "base_uri": "https://localhost:8080/",
          "height": 121
        },
        "id": "el7HyqY_9tn6",
        "outputId": "d27ca92c-fb20-4e36-ae5a-9e2583587b71"
      },
      "outputs": [
        {
          "output_type": "stream",
          "name": "stdout",
          "text": [
            "Olá! 👋  Como posso ajudá-lo com seus questionamentos sobre licitações e contratos? 😊\n",
            "\n",
            "Lembre-se: minhas respostas se baseiam na Lei nº 14.133/2021 e no documento \"Licitações e Contratos - Orientações e Jurisprudência do TCU - 5ª Edição\". \n",
            "\n",
            "Qual a sua dúvida? 😉 \n",
            "\n"
          ]
        }
      ],
      "source": [
        "# Importação de módulos, classes e da biblioteca do Gemini\n",
        "\n",
        "from pathlib import Path\n",
        "import hashlib\n",
        "import google.generativeai as genai\n",
        "\n",
        "# Configuração da chave de API do Gemini usando o secret do Colab\n",
        "\n",
        "from google.colab import userdata\n",
        "api_key = userdata.get('API_GEMINI')\n",
        "genai.configure(api_key=api_key)\n",
        "\n",
        "# Configuração do modelo generativo\n",
        "\n",
        "generation_config = {\n",
        "  \"temperature\": 1,\n",
        "  \"top_p\": 0.95,\n",
        "  \"top_k\": 0,\n",
        "  \"max_output_tokens\": 10000,\n",
        "}\n",
        "\n",
        "safety_settings = [\n",
        "  {\n",
        "    \"category\": \"HARM_CATEGORY_HARASSMENT\",\n",
        "    \"threshold\": \"BLOCK_MEDIUM_AND_ABOVE\"\n",
        "  },\n",
        "  {\n",
        "    \"category\": \"HARM_CATEGORY_HATE_SPEECH\",\n",
        "    \"threshold\": \"BLOCK_MEDIUM_AND_ABOVE\"\n",
        "  },\n",
        "  {\n",
        "    \"category\": \"HARM_CATEGORY_SEXUALLY_EXPLICIT\",\n",
        "    \"threshold\": \"BLOCK_MEDIUM_AND_ABOVE\"\n",
        "  },\n",
        "  {\n",
        "    \"category\": \"HARM_CATEGORY_DANGEROUS_CONTENT\",\n",
        "    \"threshold\": \"BLOCK_MEDIUM_AND_ABOVE\"\n",
        "  },\n",
        "]\n",
        "\n",
        "# Inserção de instruções para que o modelo aja e responda da forma esperada, ou seja, como um especialista em licitações e contratos\n",
        "\n",
        "system_instruction = \"Seu nome é Auxil.IA de contratações. Você é um especialista em licitações e contratos, especialmente na Lei nº 14.133/2021 e na jurisprudência do Tribunal de Contas da União. Sempre baseie suas respostas unicamente no conteúdo da referida lei e no arquivo PDF \\\"Licitacoes e Contratos - Orientacoes e Jurisprudencia do TCU - 5a Edicao.pdf\\\". A linguagem deve ser formal, mas de fácil entendimento. Não destaque os títulos e subtítulos de suas respostas com hashtag, use texto simples.\"\n",
        "\n",
        "# Definição da versão do modelo a ser utilizada: Gemini 1.5 pro\n",
        "\n",
        "model = genai.GenerativeModel(model_name=\"gemini-1.5-pro-latest\",\n",
        "                              generation_config=generation_config,\n",
        "                              system_instruction=system_instruction,\n",
        "                              safety_settings=safety_settings)\n",
        "\n",
        "# Atribuição da fonte de dados (arquivos PDF) para basear as respostas\n",
        "\n",
        "def extract_pdf_pages(pathname: str) -> list[str]:\n",
        "  parts = [f\"--- START OF PDF ${pathname} ---\"]\n",
        "\n",
        "  # Adição de lógica para ler os arquivos PDF e retornar a lista de páginas\n",
        "\n",
        "  pages = []\n",
        "  for index, page in enumerate(pages):\n",
        "    parts.append(f\"--- PAGE {index} ---\")\n",
        "    parts.append(page)\n",
        "  return parts\n",
        "\n",
        "# Exemplo do chat para definir o tipo de interação desejada\n",
        "\n",
        "convo = model.start_chat(history=[\n",
        "  {\n",
        "    \"role\": \"user\",\n",
        "    \"parts\": extract_pdf_pages(\"<path>/document0.pdf\")\n",
        "  },\n",
        "  {\n",
        "    \"role\": \"user\",\n",
        "    \"parts\": extract_pdf_pages(\"<path>/document1.pdf\")\n",
        "  },\n",
        "  {\n",
        "    \"role\": \"model\",\n",
        "    \"parts\": [\"Como especialista em licitações e contratos, posso auxiliá-lo a navegar pela Lei nº 14.133/2021 e pelas orientações do TCU. Por favor, formule sua pergunta específica sobre o assunto, detalhando o seu contexto, para que eu possa fornecer uma resposta precisa e completa. \\n\\nLembre-se de que minhas respostas serão baseadas exclusivamente no conteúdo da Lei nº 14.133/2021 e no arquivo PDF \\\"Licitacoes e Contratos - Orientacoes e Jurisprudencia do TCU - 5a Edicao.pdf\\\".\"]\n",
        "  },\n",
        "])\n",
        "\n",
        "# Definição de saída do chat ao receber uma mensagem do usuário\n",
        "\n",
        "convo.send_message(\"Olá\")\n",
        "print(convo.last.text)"
      ]
    },
    {
      "cell_type": "markdown",
      "source": [
        "# **Configuração do bot para Telegram, com interface com chatbot do Gemini**\n",
        "\n"
      ],
      "metadata": {
        "id": "rIjg533oZQc8"
      }
    },
    {
      "cell_type": "code",
      "execution_count": null,
      "metadata": {
        "id": "qHzPlxdG8e79"
      },
      "outputs": [],
      "source": [
        "# Importação da biblioteca de bots do Telegram\n",
        "\n",
        "import telebot\n",
        "\n",
        "# Configuração da chave de API do bot do Telegram usando o secret do Colab\n",
        "\n",
        "from google.colab import userdata\n",
        "telegram_key = userdata.get('API_TELEGRAM')\n",
        "bot = telebot.TeleBot(telegram_key)\n",
        "\n",
        "# Configuração do manipulador de mensagens do bot e da função de resposta, para sempre responder as mensagens do usuário\n",
        "\n",
        "@bot.message_handler(func=lambda m: True)\n",
        "\n",
        "def echo_all(message):\n",
        "  convo.send_message(message.text)\n",
        "  response = (convo.last.text)\n",
        "  bot.reply_to(message, response)\n",
        "\n",
        "# Definição de parâmetro para permitir o funcionamento contínuo do bot\n",
        "\n",
        "bot.infinity_polling()"
      ]
    }
  ],
  "metadata": {
    "colab": {
      "provenance": [],
      "authorship_tag": "ABX9TyPUTZe/mz9ehElB89omGvWA",
      "include_colab_link": true
    },
    "kernelspec": {
      "display_name": "Python 3",
      "name": "python3"
    },
    "language_info": {
      "name": "python"
    }
  },
  "nbformat": 4,
  "nbformat_minor": 0
}